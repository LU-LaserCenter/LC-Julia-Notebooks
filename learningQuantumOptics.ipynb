{
 "cells": [
  {
   "cell_type": "code",
   "execution_count": 1,
   "id": "universal-folks",
   "metadata": {},
   "outputs": [],
   "source": [
    "using LinearAlgebra\n",
    "using QuantumOptics\n",
    "using WignerSymbols"
   ]
  },
  {
   "cell_type": "code",
   "execution_count": 2,
   "id": "unknown-surrey",
   "metadata": {},
   "outputs": [
    {
     "data": {
      "text/plain": [
       "[Spin(1/2) ⊗ Spin(1/2)]"
      ]
     },
     "execution_count": 2,
     "metadata": {},
     "output_type": "execute_result"
    }
   ],
   "source": [
    "sbasis=SpinBasis(1//2)\n",
    "ibasis=SpinBasis(1//2)\n",
    "#hbasis=CompositeBasis(sbasis,ibasis)\n",
    "hbasis=tensor(sbasis,ibasis) # same as above?"
   ]
  },
  {
   "cell_type": "code",
   "execution_count": 3,
   "id": "fluid-baltimore",
   "metadata": {},
   "outputs": [
    {
     "data": {
      "text/plain": [
       "Operator(dim=2x2)\n",
       "  basis: Spin(1/2)\n",
       "  [1, 1]  =  1.0+0.0im\n",
       "  [2, 2]  =  1.0+0.0im"
      ]
     },
     "execution_count": 3,
     "metadata": {},
     "output_type": "execute_result"
    }
   ],
   "source": [
    "Szsbasis=sigmaz(sbasis)\n",
    "Izsbasis=sigmaz(ibasis)\n",
    "ids=identityoperator(ibasis)\n",
    "sds=identityoperator(sbasis)"
   ]
  },
  {
   "cell_type": "code",
   "execution_count": 4,
   "id": "technological-warning",
   "metadata": {},
   "outputs": [
    {
     "data": {
      "text/plain": [
       "Operator(dim=4x4)\n",
       "  basis: [Spin(1/2) ⊗ Spin(1/2)]\n",
       "  [1, 1]  =  1.0+0.0im\n",
       "  [2, 2]  =  -1.0+0.0im\n",
       "  [3, 3]  =  1.0+0.0im\n",
       "  [4, 4]  =  -1.0+0.0im"
      ]
     },
     "execution_count": 4,
     "metadata": {},
     "output_type": "execute_result"
    }
   ],
   "source": [
    "Sz=tensor(ids,Szsbasis) # diagonal(1,1,-1,-1)\n",
    "Iz=tensor(Izsbasis,sds) # digaonal(1,-1,1,-1)"
   ]
  },
  {
   "cell_type": "code",
   "execution_count": 5,
   "id": "satellite-optics",
   "metadata": {},
   "outputs": [
    {
     "data": {
      "text/plain": [
       "Ket(dim=4)\n",
       "  basis: [Spin(1/2) ⊗ Spin(1/2)]\n",
       " 0.0\n",
       " 0.0\n",
       " 1.0\n",
       " 0.0"
      ]
     },
     "execution_count": 5,
     "metadata": {},
     "output_type": "execute_result"
    }
   ],
   "source": [
    "uu=Ket(hbasis,[1,0,0,0])\n",
    "dd=Ket(hbasis,[1,0,0,0])\n",
    "ud=Ket(hbasis,[0,1,0,0])\n",
    "du=Ket(hbasis,[0,0,1,0])"
   ]
  },
  {
   "cell_type": "code",
   "execution_count": 6,
   "id": "unusual-architect",
   "metadata": {},
   "outputs": [
    {
     "data": {
      "text/plain": [
       "Subspace(superbasis=[Spin(1/2) ⊗ Spin(1/2)], states:4)"
      ]
     },
     "execution_count": 6,
     "metadata": {},
     "output_type": "execute_result"
    }
   ],
   "source": [
    "F1=uu\n",
    "F2=(ud+du)/sqrt(2)\n",
    "F3=dd\n",
    "F4=(ud-du)/sqrt(2)\n",
    "Fbasis=SubspaceBasis([F1,F2,F3,F4])"
   ]
  },
  {
   "cell_type": "code",
   "execution_count": 7,
   "id": "relative-exchange",
   "metadata": {},
   "outputs": [
    {
     "data": {
      "text/plain": [
       "4×4 Array{RationalRoots.RationalRoot{BigInt},2}:\n",
       " +√(1//1)  +√(0//1)  +√(0//1)  +√(0//1)\n",
       " +√(0//1)  +√(1//2)  +√(1//2)  +√(0//1)\n",
       " +√(0//1)  +√(0//1)  +√(0//1)  +√(1//1)\n",
       " +√(0//1)  +√(1//2)  -√(1//2)  +√(0//1)"
      ]
     },
     "execution_count": 7,
     "metadata": {},
     "output_type": "execute_result"
    }
   ],
   "source": [
    "C=[clebschgordan(1//2,1//2,1//2,1//2,1,1) clebschgordan(1//2,1//2,1//2,-1//2,1,1) clebschgordan(1//2,-1//2,1//2,1//2,1,1) clebschgordan(1//2,-1//2,1//2,-1//2,1,1);\n",
    "    clebschgordan(1//2,1//2,1//2,1//2,1,0) clebschgordan(1//2,1//2,1//2,-1//2,1,0) clebschgordan(1//2,-1//2,1//2,1//2,1,0) clebschgordan(1//2,-1//2,1//2,-1//2,1,0);\n",
    "    clebschgordan(1//2,1//2,1//2,1//2,1,-1) clebschgordan(1//2,1//2,1//2,-1//2,1,-1) clebschgordan(1//2,-1//2,1//2,1//2,1,-1) clebschgordan(1//2,-1//2,1//2,-1//2,1,-1);\n",
    "    clebschgordan(1//2,1//2,1//2,1//2,0,0) clebschgordan(1//2,1//2,1//2,-1//2,0,0) clebschgordan(1//2,-1//2,1//2,1//2,0,0) clebschgordan(1//2,-1//2,1//2,-1//2,0,0)]"
   ]
  },
  {
   "cell_type": "code",
   "execution_count": 8,
   "id": "experienced-pipeline",
   "metadata": {},
   "outputs": [
    {
     "data": {
      "text/plain": [
       "4×4 Array{Float64,2}:\n",
       " 1.0  -0.0       -0.0   0.0\n",
       " 0.0   0.707107  -0.0   0.707107\n",
       " 0.0   0.707107   0.0  -0.707107\n",
       " 0.0   0.0        1.0   0.0"
      ]
     },
     "execution_count": 8,
     "metadata": {},
     "output_type": "execute_result"
    }
   ],
   "source": [
    "Cinv=inv(C)"
   ]
  },
  {
   "cell_type": "code",
   "execution_count": 9,
   "id": "stuck-myrtle",
   "metadata": {},
   "outputs": [
    {
     "data": {
      "text/plain": [
       "4×4 Array{Float64,2}:\n",
       " 1.0  0.0        0.0       0.0\n",
       " 0.0  0.707107   0.707107  0.0\n",
       " 0.0  0.0        0.0       1.0\n",
       " 0.0  0.707107  -0.707107  0.0"
      ]
     },
     "execution_count": 9,
     "metadata": {},
     "output_type": "execute_result"
    }
   ],
   "source": [
    "C=Float64.(C)"
   ]
  },
  {
   "cell_type": "code",
   "execution_count": 10,
   "id": "interracial-brass",
   "metadata": {},
   "outputs": [
    {
     "data": {
      "text/plain": [
       "Operator(dim=4x4)\n",
       "  basis: [Spin(1/2) ⊗ Spin(1/2)]\n",
       "  [1, 1]  =  2.0+0.0im\n",
       "  [4, 4]  =  -2.0+0.0im"
      ]
     },
     "execution_count": 10,
     "metadata": {},
     "output_type": "execute_result"
    }
   ],
   "source": [
    "Sz+Iz"
   ]
  },
  {
   "cell_type": "code",
   "execution_count": 11,
   "id": "searching-conservation",
   "metadata": {},
   "outputs": [
    {
     "data": {
      "text/plain": [
       "Operator(dim=4x4)\n",
       "  basis: [Spin(1/2) ⊗ Spin(1/2)]\n",
       " 1.0+0.0im       0.0+0.0im        0.0+0.0im  0.0+0.0im\n",
       " 0.0+0.0im  0.707107+0.0im   0.707107+0.0im  0.0+0.0im\n",
       " 0.0+0.0im       0.0+0.0im        0.0+0.0im  1.0+0.0im\n",
       " 0.0+0.0im  0.707107+0.0im  -0.707107+0.0im  0.0+0.0im"
      ]
     },
     "execution_count": 11,
     "metadata": {},
     "output_type": "execute_result"
    }
   ],
   "source": [
    "TransformMatrix=DenseOperator(hbasis,C)"
   ]
  },
  {
   "cell_type": "code",
   "execution_count": 12,
   "id": "intimate-swedish",
   "metadata": {},
   "outputs": [
    {
     "data": {
      "text/plain": [
       "Operator(dim=4x4)\n",
       "  basis: [Spin(1/2) ⊗ Spin(1/2)]\n",
       " 1.0-0.0im       0.0-0.0im  0.0-0.0im        0.0-0.0im\n",
       " 0.0-0.0im  0.707107-0.0im  0.0-0.0im   0.707107-0.0im\n",
       " 0.0-0.0im  0.707107-0.0im  0.0-0.0im  -0.707107-0.0im\n",
       " 0.0-0.0im       0.0-0.0im  1.0-0.0im        0.0-0.0im"
      ]
     },
     "execution_count": 12,
     "metadata": {},
     "output_type": "execute_result"
    }
   ],
   "source": [
    "TransformMatrixDagger=dagger(TransformMatrix)"
   ]
  },
  {
   "cell_type": "code",
   "execution_count": 13,
   "id": "ongoing-romantic",
   "metadata": {},
   "outputs": [
    {
     "data": {
      "text/plain": [
       "Operator(dim=4x4)\n",
       "  basis: [Spin(1/2) ⊗ Spin(1/2)]\n",
       " 1.0+0.0im      0.0+0.0im   0.0+0.0im      0.0+0.0im\n",
       " 0.0+0.0im  4.0e-17+0.0im   0.0+0.0im      1.0+0.0im\n",
       " 0.0+0.0im      0.0+0.0im  -1.0+0.0im      0.0+0.0im\n",
       " 0.0+0.0im      1.0+0.0im   0.0+0.0im  4.0e-17+0.0im"
      ]
     },
     "execution_count": 13,
     "metadata": {},
     "output_type": "execute_result"
    }
   ],
   "source": [
    "TransformMatrix*(Sz)*TransformMatrixDagger    # Eq. E-10 in Chapter XII of vol. 2 of Cohen-Tannoudji"
   ]
  },
  {
   "cell_type": "code",
   "execution_count": 14,
   "id": "trying-destiny",
   "metadata": {},
   "outputs": [
    {
     "data": {
      "text/plain": [
       "Operator(dim=4x4)\n",
       "  basis left:  Subspace(superbasis=[Spin(1/2) ⊗ Spin(1/2)], states:4)\n",
       "  basis right: [Spin(1/2) ⊗ Spin(1/2)]\n",
       " 1.0  0.0        0.0       0.0\n",
       " 0.0  0.707107   0.707107  0.0\n",
       " 0.0  0.0        0.0       1.0\n",
       " 0.0  0.707107  -0.707107  0.0"
      ]
     },
     "execution_count": 14,
     "metadata": {},
     "output_type": "execute_result"
    }
   ],
   "source": [
    "TransformMatrix=Operator(Fbasis,hbasis,C)"
   ]
  },
  {
   "cell_type": "code",
   "execution_count": 15,
   "id": "bulgarian-precipitation",
   "metadata": {},
   "outputs": [
    {
     "data": {
      "text/plain": [
       "Operator(dim=4x4)\n",
       "  basis left:  [Spin(1/2) ⊗ Spin(1/2)]\n",
       "  basis right: Subspace(superbasis=[Spin(1/2) ⊗ Spin(1/2)], states:4)\n",
       " 1.0  0.0       0.0   0.0\n",
       " 0.0  0.707107  0.0   0.707107\n",
       " 0.0  0.707107  0.0  -0.707107\n",
       " 0.0  0.0       1.0   0.0"
      ]
     },
     "execution_count": 15,
     "metadata": {},
     "output_type": "execute_result"
    }
   ],
   "source": [
    "TransformMatrixDagger=dagger(TransformMatrix)"
   ]
  },
  {
   "cell_type": "code",
   "execution_count": 16,
   "id": "ceramic-reality",
   "metadata": {},
   "outputs": [
    {
     "data": {
      "text/plain": [
       "Operator(dim=4x4)\n",
       "  basis: Subspace(superbasis=[Spin(1/2) ⊗ Spin(1/2)], states:4)\n",
       " 1.0+0.0im      0.0+0.0im   0.0+0.0im      0.0+0.0im\n",
       " 0.0+0.0im  4.0e-17+0.0im   0.0+0.0im      1.0+0.0im\n",
       " 0.0+0.0im      0.0+0.0im  -1.0+0.0im      0.0+0.0im\n",
       " 0.0+0.0im      1.0+0.0im   0.0+0.0im  4.0e-17+0.0im"
      ]
     },
     "execution_count": 16,
     "metadata": {},
     "output_type": "execute_result"
    }
   ],
   "source": [
    "TransformMatrix*(Sz)*TransformMatrixDagger"
   ]
  },
  {
   "cell_type": "code",
   "execution_count": null,
   "id": "crude-beast",
   "metadata": {},
   "outputs": [],
   "source": []
  }
 ],
 "metadata": {
  "kernelspec": {
   "display_name": "Julia 1.5.3",
   "language": "julia",
   "name": "julia-1.5"
  },
  "language_info": {
   "file_extension": ".jl",
   "mimetype": "application/julia",
   "name": "julia",
   "version": "1.5.3"
  }
 },
 "nbformat": 4,
 "nbformat_minor": 5
}
