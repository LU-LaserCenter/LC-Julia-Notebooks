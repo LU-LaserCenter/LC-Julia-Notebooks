{
 "cells": [
  {
   "cell_type": "markdown",
   "metadata": {},
   "source": [
    "# Learning Quantum Optics\n",
    "## A Notebook for learning how to work with the package [QuantumOptics.jl](https://qojulia.org/)\n",
    "### Florian Gahbauer\n",
    "### February 25, 2021\n",
    "### Revised March 6, 2021"
   ]
  },
  {
   "cell_type": "code",
   "execution_count": 1,
   "metadata": {},
   "outputs": [],
   "source": [
    "using LinearAlgebra\r\n",
    "using QuantumOptics\r\n",
    "using WignerSymbols\r\n",
    "using PyPlot"
   ]
  },
  {
   "cell_type": "markdown",
   "metadata": {},
   "source": [
    "## Creating Bases\r\n",
    "In this section, we will test the SpinBasis function to create spin-1/2 bases for the electron spin (S1) and the proton spin (S2).\r\n",
    "Note that the electron spin is sometimes referred to as S and the proton (nuclear) spin as I.\r\n",
    "Then, we will create a composite basis to describe a Hydrogen atom in the 1s state from these two bases. "
   ]
  },
  {
   "cell_type": "code",
   "execution_count": 2,
   "metadata": {},
   "outputs": [
    {
     "data": {
      "text/plain": "[Spin(1/2) ⊗ Spin(1/2)]"
     },
     "execution_count": 2,
     "metadata": {},
     "output_type": "execute_result"
    }
   ],
   "source": [
    "m1basis=SpinBasis(1//0)                         # basis for orbital angular momentum S1=L=|S1,m₁> with spin-1. \r\n",
    "m2basis=SpinBasis(1//2)                         # basis for spin S2=|S2,m₂> with spin-1/2  |↑>=[1; 0], |↓>=[0; 1] \r\n",
    "m1m2basis=CompositeBasis(m1basis,m2basis)       # Composite basis S1 ⊗ S2 (outer product)\r\n",
    "#hbasis=tensor(sbasis,ibasis) # same as above, I think.\r\n",
    "# We will call this the |L,S,mₗ,mₛ> basis or |mₗ,mₛ> for short, because we can describe it \r\n",
    "#by the z-component of each of the spins: |1↑>, |1↓>, |0↑>, |0↓>, |-1↑>, |-1↓> "
   ]
  },
  {
   "cell_type": "markdown",
   "metadata": {},
   "source": [
    "## Operators in the spin-1/2 bases\r\n",
    "Next we will create some basic operators defined for the spin-1/2 bases. \r\n",
    "We want the $S_z^{1/2 \\otimes 1/2}$ operator and the identity operator in each basis. \r\n",
    "To make life easier, we will set $\\hbar=1$."
   ]
  },
  {
   "cell_type": "code",
   "execution_count": 3,
   "metadata": {},
   "outputs": [
    {
     "data": {
      "text/plain": "Operator(dim=2x2)\n  basis: Spin(1/2)\n  [1, 1]  =  0.75+0.0im\n  [2, 2]  =  0.75+0.0im"
     },
     "execution_count": 3,
     "metadata": {},
     "output_type": "execute_result"
    }
   ],
   "source": [
    "m1basisSz=0.5*sigmaz(m1basis)               # Sz operator for S1 basis: 0.5 \\hbar [1 0; 0 -1]\r\n",
    "m2basisSz=0.5*sigmaz(m2basis)               # Sz operator for S2 basis: 0.5 \\hbar [1 0; 0 -1]\r\n",
    "m1basisSplus=sigmap(m1basis)                # Splus operator for S1 basis: \\hbar [0 1; 0  0]\r\n",
    "m1basisSminus=sigmam(m1basis)               # Sminus operator for S1 basis: \\hbar [0 0; 1  0]\r\n",
    "m2basisSplus=sigmap(m2basis)                # Splus operator for S2 basis: \\hbar [0 1; 0  0]\r\n",
    "m2basisSminus=sigmam(m2basis)               # Sminus operator for S1 basis: \\hbar [0 0; 1  0]\r\n",
    "m1basisIdentity=identityoperator(m1basis)   # Identity operator for S1 basis: [1 0; 0 1]\r\n",
    "m2basisIdentity=identityoperator(m2basis)   # Identity operator for S2 basis: [1 0; 0 1]\r\n",
    "m1basisSS=0.75*m1basisIdentity              # S^2 operator for S1 basis: 0.75 \\hbar^2 [1 0; 0 1]\r\n",
    "m2basisSS=0.75*m2basisIdentity              # S^2 operator for S2 basis: 0.75 \\hbar^2 [1 0; 0 1]"
   ]
  },
  {
   "cell_type": "markdown",
   "metadata": {},
   "source": [
    "## Operators in the spin(1/2) $\\otimes$ spin(1/2) basis\r\n",
    "Now we need to express these operators in the spin(1/2) $\\otimes$ spin(1/2) basis. The key is the [outer product](https://en.wikipedia.org/wiki/Outer_product). \r\n",
    "\r\n"
   ]
  },
  {
   "cell_type": "code",
   "execution_count": 4,
   "metadata": {},
   "outputs": [
    {
     "data": {
      "text/plain": "Operator(dim=4x4)\n  basis: [Spin(1/2) ⊗ Spin(1/2)]\n  [1, 1]  =  0.25+0.0im\n  [2, 2]  =  -0.25+0.0im\n  [3, 2]  =  0.5+0.0im\n  [2, 3]  =  0.5+0.0im\n  [3, 3]  =  -0.25+0.0im\n  [4, 4]  =  0.25+0.0im"
     },
     "execution_count": 4,
     "metadata": {},
     "output_type": "execute_result"
    }
   ],
   "source": [
    "S1z=tensor(m1basisIdentity,m1basisSz)           # S1z in S1S2 basis: \\hbar diagonal(0.5,0.5,-0.5,-0.5)\r\n",
    "S2z=tensor(m2basisSz,m2basisIdentity)           # S2z in S1S2 basis: \\hbar digaonal(0.5,-0.5,0.5,-0.5)\r\n",
    "S1plus=tensor(m1basisIdentity,m1basisSplus)     # S1plus in S1S2 basis \r\n",
    "S1minus=tensor(m1basisIdentity,m1basisSminus)   # S1minus in S1S2 basis\r\n",
    "S2plus=tensor(m2basisSplus,m2basisIdentity)     # S2plus in S1S2 basis \r\n",
    "S2minus=tensor(m2basisSminus,m2basisIdentity)   # S2minus in S1S2 basis\r\n",
    "S1S2=S1z*S2z+0.5*(S2plus*S1minus+S2minus*S1plus)    # S1̇ S2 in S1S2 basis\r\n",
    "#See eq. (E-19) of Chapter XII.3.b. of Cohen-Tannoudji Quantum Mechanics for S=S1, I=S2\r\n"
   ]
  },
  {
   "cell_type": "code",
   "execution_count": 5,
   "metadata": {},
   "outputs": [
    {
     "data": {
      "text/plain": "Operator(dim=4x4)\n  basis: [Spin(1/2) ⊗ Spin(1/2)]\n  [1, 1]  =  2.0+0.0im\n  [2, 2]  =  1.0+0.0im\n  [3, 2]  =  1.0+0.0im\n  [2, 3]  =  1.0+0.0im\n  [3, 3]  =  1.0+0.0im\n  [4, 4]  =  2.0+0.0im"
     },
     "execution_count": 5,
     "metadata": {},
     "output_type": "execute_result"
    }
   ],
   "source": [
    "# Now define S^2 in the S1S2 basis. \r\n",
    "# See eq (B-18) of Chapter X of Cohen-Tannoudji Quantum Mechanics\r\n",
    "# Should be \\hbar^2 [2 0 0 0; 0 1 1 0; 0 1 1 0; 0 0 0 2]\r\n",
    "SS=0.75*identityoperator(m1m2basis) + 0.75*identityoperator(m1m2basis) + 2*S1z*S2z +S1plus*S2minus +S1minus*S2plus "
   ]
  },
  {
   "cell_type": "code",
   "execution_count": 6,
   "metadata": {},
   "outputs": [
    {
     "data": {
      "text/plain": "Ket(dim=4)\n  basis: [Spin(1/2) ⊗ Spin(1/2)]\n 0.0\n 0.0\n 1.0\n 0.0"
     },
     "execution_count": 6,
     "metadata": {},
     "output_type": "execute_result"
    }
   ],
   "source": [
    "# Now define some kets in the S1S2 basis.\r\n",
    "uu=Ket(m1m2basis,[1,0,0,0])        # | ↑, ↑ >\r\n",
    "dd=Ket(m1m2basis,[0,0,0,1])        # | ↓, ↓ >\r\n",
    "ud=Ket(m1m2basis,[0,1,0,0])        # | ↑, ↓ >\r\n",
    "du=Ket(m1m2basis,[0,0,1,0])        # | ↓, ↑ >"
   ]
  },
  {
   "cell_type": "code",
   "execution_count": 7,
   "metadata": {},
   "outputs": [
    {
     "data": {
      "text/plain": "Subspace(superbasis=[Spin(1/2) ⊗ Spin(1/2)], states:4)"
     },
     "execution_count": 7,
     "metadata": {},
     "output_type": "execute_result"
    }
   ],
   "source": [
    "# Now define the basis vectors of the |F, m> basis, \r\n",
    "# where the total angular momentum F=S1+S2 and m=Fz (the z-component of F)\r\n",
    "F1=uu                                       # | ↑, ↑ >\r\n",
    "F2=(ud+du)/sqrt(2)                          # (| ↑, ↓ > + | ↓, ↑ >)/√2\r\n",
    "F3=dd                                       # | ↓, ↓ >\r\n",
    "F4=(ud-du)/sqrt(2)                          # (| ↑, ↓ > - | ↓, ↑ >)/√2\r\n",
    "Fmbasis=SubspaceBasis([F1,F2,F3,F4])         # Now define the |F,m> basis using these basis vectors"
   ]
  },
  {
   "cell_type": "code",
   "execution_count": 8,
   "metadata": {},
   "outputs": [
    {
     "data": {
      "text/plain": "4×4 Array{RationalRoots.RationalRoot{BigInt},2}:\n +√(1//1)  +√(0//1)  +√(0//1)  +√(0//1)\n +√(0//1)  +√(1//2)  +√(1//2)  +√(0//1)\n +√(0//1)  +√(0//1)  +√(0//1)  +√(1//1)\n +√(0//1)  +√(1//2)  -√(1//2)  +√(0//1)"
     },
     "execution_count": 8,
     "metadata": {},
     "output_type": "execute_result"
    }
   ],
   "source": [
    "# Now define the matrix to transform a vector from the |m1,m2> basis to the |F,m> basis.\r\n",
    "# In other words, we found |α> = C |β>, where |α> is in the |F,m> basis and β is in the |m1,m2> basis.\r\n",
    "# A good explanation can be  found in the section on Clebsch-Gordan coefficients in\r\n",
    "# R. Shankar, Principles of Quantum Mechanics, 2nd edition, New York, Plenum Press, 1994 (ISBN 0-306-44790-8)\r\n",
    "# In fact, I found the entire chapter on Addition of Angular momentum (Chapter 15) very helpful.\r\n",
    "C=[clebschgordan(1//2,1//2,1//2,1//2,1,1) clebschgordan(1//2,1//2,1//2,-1//2,1,1) clebschgordan(1//2,-1//2,1//2,1//2,1,1) clebschgordan(1//2,-1//2,1//2,-1//2,1,1);\r\n",
    "    clebschgordan(1//2,1//2,1//2,1//2,1,0) clebschgordan(1//2,1//2,1//2,-1//2,1,0) clebschgordan(1//2,-1//2,1//2,1//2,1,0) clebschgordan(1//2,-1//2,1//2,-1//2,1,0);\r\n",
    "    clebschgordan(1//2,1//2,1//2,1//2,1,-1) clebschgordan(1//2,1//2,1//2,-1//2,1,-1) clebschgordan(1//2,-1//2,1//2,1//2,1,-1) clebschgordan(1//2,-1//2,1//2,-1//2,1,-1);\r\n",
    "    clebschgordan(1//2,1//2,1//2,1//2,0,0) clebschgordan(1//2,1//2,1//2,-1//2,0,0) clebschgordan(1//2,-1//2,1//2,1//2,0,0) clebschgordan(1//2,-1//2,1//2,-1//2,0,0)]"
   ]
  },
  {
   "cell_type": "code",
   "execution_count": 9,
   "metadata": {},
   "outputs": [
    {
     "data": {
      "text/plain": "4×4 Array{Float64,2}:\n 1.0  -0.0       -0.0   0.0\n 0.0   0.707107  -0.0   0.707107\n 0.0   0.707107   0.0  -0.707107\n 0.0   0.0        1.0   0.0"
     },
     "execution_count": 9,
     "metadata": {},
     "output_type": "execute_result"
    }
   ],
   "source": [
    "# C is just a matrix for now. It is not a QuantumOptics object.\r\n",
    "# Therefore we can just take the inverse using the appropriate \r\n",
    "# function from the LinearAlgebra package. \r\n",
    "# Following the above logic, Cinv is the transormation matrix \r\n",
    "# from the |F,m> basis to the |m1,m2> basis:\r\n",
    "# |β> = Cinv |α>,\r\n",
    "# where |β> is a ket in the |m1,m2> basis \r\n",
    "# and |α> is a ket in the |F,m> basis.\r\n",
    "Cinv=inv(C)"
   ]
  },
  {
   "cell_type": "code",
   "execution_count": 10,
   "metadata": {},
   "outputs": [
    {
     "data": {
      "text/plain": "4×4 Array{Float64,2}:\n 1.0  0.0        0.0       0.0\n 0.0  0.707107   0.707107  0.0\n 0.0  0.0        0.0       1.0\n 0.0  0.707107  -0.707107  0.0"
     },
     "execution_count": 10,
     "metadata": {},
     "output_type": "execute_result"
    }
   ],
   "source": [
    "# The elements of C are type RationalRoots.\r\n",
    "# We want them to be Float64. \r\n",
    "# We use the vectorized dot-function Float64 \r\n",
    "# to convert each element of C to a Float64.\r\n",
    "C=Float64.(C)"
   ]
  },
  {
   "cell_type": "code",
   "execution_count": 11,
   "metadata": {},
   "outputs": [
    {
     "data": {
      "text/plain": "Operator(dim=4x4)\n  basis: [Spin(1/2) ⊗ Spin(1/2)]\n 1.0+0.0im       0.0+0.0im        0.0+0.0im  0.0+0.0im\n 0.0+0.0im  0.707107+0.0im   0.707107+0.0im  0.0+0.0im\n 0.0+0.0im       0.0+0.0im        0.0+0.0im  1.0+0.0im\n 0.0+0.0im  0.707107+0.0im  -0.707107+0.0im  0.0+0.0im"
     },
     "execution_count": 11,
     "metadata": {},
     "output_type": "execute_result"
    }
   ],
   "source": [
    "# Now we want to convert our matrix into an operator object.\r\n",
    "# We use the DenseOperator function from QuantumOptics.jl \r\n",
    "# and define a transformmatrix. \r\n",
    "TransformMatrix=DenseOperator(m1m2basis,C)"
   ]
  },
  {
   "cell_type": "code",
   "execution_count": 12,
   "metadata": {},
   "outputs": [
    {
     "data": {
      "text/plain": "Operator(dim=4x4)\n  basis: [Spin(1/2) ⊗ Spin(1/2)]\n 1.0-0.0im       0.0-0.0im  0.0-0.0im        0.0-0.0im\n 0.0-0.0im  0.707107-0.0im  0.0-0.0im   0.707107-0.0im\n 0.0-0.0im  0.707107-0.0im  0.0-0.0im  -0.707107-0.0im\n 0.0-0.0im       0.0-0.0im  1.0-0.0im        0.0-0.0im"
     },
     "execution_count": 12,
     "metadata": {},
     "output_type": "execute_result"
    }
   ],
   "source": [
    "# We also need the Hermitian conjugate of the \r\n",
    "# transform matrix, which we can get using the \r\n",
    "# dagger function from QuantumOptics.jl. \r\n",
    "TransformMatrixDagger=dagger(TransformMatrix)"
   ]
  },
  {
   "cell_type": "code",
   "execution_count": 14,
   "metadata": {},
   "outputs": [
    {
     "data": {
      "text/plain": "Operator(dim=4x4)\n  basis: [Spin(1/2) ⊗ Spin(1/2)]\n 0.5+0.0im      0.0+0.0im   0.0+0.0im      0.0+0.0im\n 0.0+0.0im  2.0e-17+0.0im   0.0+0.0im      0.5+0.0im\n 0.0+0.0im      0.0+0.0im  -0.5+0.0im      0.0+0.0im\n 0.0+0.0im      0.5+0.0im   0.0+0.0im  2.0e-17+0.0im"
     },
     "execution_count": 14,
     "metadata": {},
     "output_type": "execute_result"
    }
   ],
   "source": [
    "# In order to transform the operator Sz from the |m₁,m₂> basis to the\r\n",
    "# |F,m> basis, we must multiply it on the right side by\r\n",
    "# C† and on the left side by C. \r\n",
    "TransformMatrix*(S1z)*TransformMatrixDagger    # Should be Eq. E-10 in Chapter XII.E.2.a. of vol. 2 of Cohen-Tannoudji."
   ]
  },
  {
   "cell_type": "code",
   "execution_count": 15,
   "metadata": {},
   "outputs": [
    {
     "data": {
      "text/plain": "Operator(dim=4x4)\n  basis left:  Subspace(superbasis=[Spin(1/2) ⊗ Spin(1/2)], states:4)\n  basis right: [Spin(1/2) ⊗ Spin(1/2)]\n 1.0  0.0        0.0       0.0\n 0.0  0.707107   0.707107  0.0\n 0.0  0.0        0.0       1.0\n 0.0  0.707107  -0.707107  0.0"
     },
     "execution_count": 15,
     "metadata": {},
     "output_type": "execute_result"
    }
   ],
   "source": [
    "# I think the right way to do it, actually, is to define our transform matrix\r\n",
    "# as an operator with a left-side basis |F,m>\r\n",
    "# and a right-side basis |m₁,m₂>. \r\n",
    "TransformMatrix=Operator(Fmbasis,m1m2basis,C)"
   ]
  },
  {
   "cell_type": "code",
   "execution_count": 16,
   "metadata": {},
   "outputs": [
    {
     "data": {
      "text/plain": "Operator(dim=4x4)\n  basis left:  [Spin(1/2) ⊗ Spin(1/2)]\n  basis right: Subspace(superbasis=[Spin(1/2) ⊗ Spin(1/2)], states:4)\n 1.0  0.0       0.0   0.0\n 0.0  0.707107  0.0   0.707107\n 0.0  0.707107  0.0  -0.707107\n 0.0  0.0       1.0   0.0"
     },
     "execution_count": 16,
     "metadata": {},
     "output_type": "execute_result"
    }
   ],
   "source": [
    "# Now when we take the Hermitian conjugage, the QuantumOptics package\r\n",
    "# should handle everything for us. \r\n",
    "TransformMatrixDagger=dagger(TransformMatrix)"
   ]
  },
  {
   "cell_type": "code",
   "execution_count": 17,
   "metadata": {},
   "outputs": [
    {
     "data": {
      "text/plain": "Operator(dim=4x4)\n  basis: Subspace(superbasis=[Spin(1/2) ⊗ Spin(1/2)], states:4)\n 0.5+0.0im      0.0+0.0im   0.0+0.0im      0.0+0.0im\n 0.0+0.0im  2.0e-17+0.0im   0.0+0.0im      0.5+0.0im\n 0.0+0.0im      0.0+0.0im  -0.5+0.0im      0.0+0.0im\n 0.0+0.0im      0.5+0.0im   0.0+0.0im  2.0e-17+0.0im"
     },
     "execution_count": 17,
     "metadata": {},
     "output_type": "execute_result"
    }
   ],
   "source": [
    "Szfmbasis=TransformMatrix*(S1z)*TransformMatrixDagger    # Eq. E-10 in Chapter XII.E.2.a. of vol. 2 of Cohen-Tannoudji, Quantum Mechanics."
   ]
  },
  {
   "cell_type": "code",
   "execution_count": 19,
   "metadata": {},
   "outputs": [
    {
     "data": {
      "text/plain": "Operator(dim=4x4)\n  basis: Subspace(superbasis=[Spin(1/2) ⊗ Spin(1/2)], states:4)\n 0.25+0.0im      0.0+0.0im   0.0+0.0im      0.0+0.0im\n  0.0+0.0im     0.25+0.0im   0.0+0.0im  1.0e-17+0.0im\n  0.0+0.0im      0.0+0.0im  0.25+0.0im      0.0+0.0im\n  0.0+0.0im  2.0e-17+0.0im   0.0+0.0im    -0.75+0.0im"
     },
     "execution_count": 19,
     "metadata": {},
     "output_type": "execute_result"
    }
   ],
   "source": [
    "ISfmbasis=TransformMatrix*(S1S2)*TransformMatrixDagger   # This is the operator I.S in the |F,m> basis, where it should be diagonal. "
   ]
  },
  {
   "cell_type": "code",
   "execution_count": 20,
   "metadata": {},
   "outputs": [
    {
     "data": {
      "text/plain": "0.0:-8.791208791208788:-4395.604395604394"
     },
     "execution_count": 20,
     "metadata": {},
     "output_type": "execute_result"
    }
   ],
   "source": [
    "#  Now I think we are ready to calculate the Zeeman splitting. \r\n",
    "A=1420.405751768                # Hyperfine structure of the ground state of H, A*hbar/(2*pi), in MHz. \r\n",
    "q=1.6*10^(-19)                  # Electron charge in Coulomb\r\n",
    "mₑ=9.1*10^(-31)                 # Electron mass in kg\r\n",
    "B₀=range(0,0.05,step=0.0001)    # 1.0*10^(-4)     Magnetic field in Tesla\r\n",
    "ω₀=-(q/(2*mₑ))*B₀/10^6          # frequency in MHz"
   ]
  },
  {
   "cell_type": "code",
   "execution_count": 21,
   "metadata": {},
   "outputs": [],
   "source": [
    "Hlist = [A*S1S2 + 2 * ω * S1z for ω=ω₀]         # The Hamiltonian is given by eq. (E-8) in Chapter XII.E.1.b. of Cohen-Tannoudji, Quantum Mechanics \r\n",
    "results=[eigenstates(dense(H)) for H=Hlist]; # This is a way of looping over the elements in the array Hlist to get an array called results.\r\n"
   ]
  },
  {
   "cell_type": "code",
   "execution_count": 22,
   "metadata": {},
   "outputs": [
    {
     "data": {
      "text/plain": "Array{Tuple{Array{Float64,1},Array{Ket{CompositeBasis{Array{Int64,1},Tuple{SpinBasis{1//2,Int64},SpinBasis{1//2,Int64}}},Array{Complex{Float64},1}},1}},1}"
     },
     "execution_count": 22,
     "metadata": {},
     "output_type": "execute_result"
    }
   ],
   "source": [
    "# Lots of information packed into the results array.\r\n",
    "typeof(results)"
   ]
  },
  {
   "cell_type": "code",
   "execution_count": 23,
   "metadata": {},
   "outputs": [
    {
     "data": {
      "text/plain": "501"
     },
     "execution_count": 23,
     "metadata": {},
     "output_type": "execute_result"
    }
   ],
   "source": [
    "# Check the length. (How many entries\r\n",
    "length(results)"
   ]
  },
  {
   "cell_type": "code",
   "execution_count": 24,
   "metadata": {},
   "outputs": [],
   "source": [
    "# Here we unpack the Eigenvalues and create 1-dimensional arrays for each Eigenvalue at different magnetic field values.\r\n",
    "E1=[results[i][1][1] for i=range(1,length=length(results))]\r\n",
    "E2=[results[i][1][2] for i=range(1,length=length(results))]\r\n",
    "E3=[results[i][1][3] for i=range(1,length=length(results))]\r\n",
    "E4=[results[i][1][4] for i=range(1,length=length(results))];"
   ]
  },
  {
   "cell_type": "code",
   "execution_count": 25,
   "metadata": {},
   "outputs": [
    {
     "data": {
      "image/png": "[encoded data removed]",
      "text/plain": "Figure(PyObject <Figure size 600x300 with 1 Axes>)"
     },
     "metadata": {},
     "output_type": "display_data"
    },
    {
     "data": {
      "text/plain": "1-element Array{PyCall.PyObject,1}:\n PyObject <matplotlib.lines.Line2D object at 0x00000000618175B0>"
     },
     "execution_count": 25,
     "metadata": {},
     "output_type": "execute_result"
    }
   ],
   "source": [
    "#  Now we plot each Eigenvalue as a function of magnetic field. \r\n",
    "figure(figsize=(6,3))\r\n",
    "xlabel(L\"Magnetic Field [T]\")\r\n",
    "ylabel(L\"Energy [MHz]\")\r\n",
    "plot(B₀,E1)\r\n",
    "plot(B₀,E2)\r\n",
    "plot(B₀,E3)\r\n",
    "plot(B₀,E4)\r\n",
    "\r\n"
   ]
  },
  {
   "cell_type": "code",
   "execution_count": 26,
   "metadata": {},
   "outputs": [
    {
     "name": "stdout",
     "output_type": "stream",
     "text": [
      "\u001b[32m\u001b[1mStatus\u001b[22m\u001b[39m `C:\\Users\\User\\.julia\\environments\\v1.5\\Manifest.toml`\n",
      " \u001b[90m [621f4979] \u001b[39m\u001b[37mAbstractFFTs v1.0.0\u001b[39m\n",
      " \u001b[90m [1520ce14] \u001b[39m\u001b[37mAbstractTrees v0.3.3\u001b[39m\n",
      " \u001b[90m [79e6a3ab] \u001b[39m\u001b[37mAdapt v2.4.0\u001b[39m\n",
      " \u001b[90m [ec485272] \u001b[39m\u001b[37mArnoldiMethod v0.1.0\u001b[39m\n",
      " \u001b[90m [7d9fca2a] \u001b[39m\u001b[37mArpack v0.5.1\u001b[39m\n",
      " \u001b[90m [68821587] \u001b[39m\u001b[37mArpack_jll v3.5.0+3\u001b[39m\n",
      " \u001b[90m [4fba245c] \u001b[39m\u001b[37mArrayInterface v3.0.1\u001b[39m\n",
      " \u001b[90m [56f22d72] \u001b[39m\u001b[37mArtifacts v1.3.0\u001b[39m\n",
      " \u001b[90m [bf4720bc] \u001b[39m\u001b[37mAssetRegistry v0.1.0\u001b[39m\n",
      " \u001b[90m [c52e3926] \u001b[39m\u001b[37mAtom v0.12.30\u001b[39m\n",
      " \u001b[90m [00ebfdb7] \u001b[39m\u001b[37mCSTParser v2.5.0\u001b[39m\n",
      " \u001b[90m [d360d2e6] \u001b[39m\u001b[37mChainRulesCore v0.9.27\u001b[39m\n",
      " \u001b[90m [53a63b46] \u001b[39m\u001b[37mCodeTools v0.7.1\u001b[39m\n",
      " \u001b[90m [da1fd8a2] \u001b[39m\u001b[37mCodeTracking v1.0.5\u001b[39m\n",
      " \u001b[90m [3da002f7] \u001b[39m\u001b[37mColorTypes v0.10.9\u001b[39m\n",
      " \u001b[90m [5ae59095] \u001b[39m\u001b[37mColors v0.12.6\u001b[39m\n",
      " \u001b[90m [a80b9123] \u001b[39m\u001b[37mCommonMark v0.6.4\u001b[39m\n",
      " \u001b[90m [38540f10] \u001b[39m\u001b[37mCommonSolve v0.2.0\u001b[39m\n",
      " \u001b[90m [bbf7d656] \u001b[39m\u001b[37mCommonSubexpressions v0.3.0\u001b[39m\n",
      " \u001b[90m [34da2185] \u001b[39m\u001b[37mCompat v3.25.0\u001b[39m\n",
      " \u001b[90m [e66e0078] \u001b[39m\u001b[37mCompilerSupportLibraries_jll v0.3.4+0\u001b[39m\n",
      " \u001b[90m [8f4d0f93] \u001b[39m\u001b[37mConda v1.5.0\u001b[39m\n",
      " \u001b[90m [187b0558] \u001b[39m\u001b[37mConstructionBase v1.0.0\u001b[39m\n",
      " \u001b[90m [a8cc5b0e] \u001b[39m\u001b[37mCrayons v4.0.4\u001b[39m\n",
      " \u001b[90m [9a962f9c] \u001b[39m\u001b[37mDataAPI v1.5.1\u001b[39m\n",
      " \u001b[90m [864edb3b] \u001b[39m\u001b[37mDataStructures v0.18.9\u001b[39m\n",
      " \u001b[90m [e2d170a0] \u001b[39m\u001b[37mDataValueInterfaces v1.0.0\u001b[39m\n",
      " \u001b[90m [2b5f629d] \u001b[39m\u001b[37mDiffEqBase v6.57.1\u001b[39m\n",
      " \u001b[90m [459566f4] \u001b[39m\u001b[37mDiffEqCallbacks v2.16.0\u001b[39m\n",
      " \u001b[90m [c894b116] \u001b[39m\u001b[37mDiffEqJump v6.13.0\u001b[39m\n",
      " \u001b[90m [77a26b50] \u001b[39m\u001b[37mDiffEqNoiseProcess v5.5.1\u001b[39m\n",
      " \u001b[90m [163ba53b] \u001b[39m\u001b[37mDiffResults v1.0.3\u001b[39m\n",
      " \u001b[90m [b552c78f] \u001b[39m\u001b[37mDiffRules v1.0.2\u001b[39m\n",
      " \u001b[90m [b4f34e82] \u001b[39m\u001b[37mDistances v0.9.2\u001b[39m\n",
      " \u001b[90m [31c24e10] \u001b[39m\u001b[37mDistributions v0.24.12\u001b[39m\n",
      " \u001b[90m [33d173f1] \u001b[39m\u001b[37mDocSeeker v0.4.2\u001b[39m\n",
      " \u001b[90m [ffbed154] \u001b[39m\u001b[37mDocStringExtensions v0.8.3\u001b[39m\n",
      " \u001b[90m [e30172f5] \u001b[39m\u001b[37mDocumenter v0.26.1\u001b[39m\n",
      " \u001b[90m [d4d017d3] \u001b[39m\u001b[37mExponentialUtilities v1.8.0\u001b[39m\n",
      " \u001b[90m [7a1cc6ca] \u001b[39m\u001b[37mFFTW v1.3.1\u001b[39m\n",
      " \u001b[90m [f5851436] \u001b[39m\u001b[37mFFTW_jll v3.3.9+7\u001b[39m\n",
      " \u001b[90m [9aa1b823] \u001b[39m\u001b[37mFastClosures v0.3.2\u001b[39m\n",
      " \u001b[90m [5789e2e9] \u001b[39m\u001b[37mFileIO v1.4.5\u001b[39m\n",
      " \u001b[90m [1a297f60] \u001b[39m\u001b[37mFillArrays v0.11.1\u001b[39m\n",
      " \u001b[90m [6a86dc24] \u001b[39m\u001b[37mFiniteDiff v2.8.0\u001b[39m\n",
      " \u001b[90m [53c48c17] \u001b[39m\u001b[37mFixedPointNumbers v0.8.4\u001b[39m\n",
      " \u001b[90m [08572546] \u001b[39m\u001b[37mFlameGraphs v0.2.5\u001b[39m\n",
      " \u001b[90m [f6369f11] \u001b[39m\u001b[37mForwardDiff v0.10.16\u001b[39m\n",
      " \u001b[90m [069b7b12] \u001b[39m\u001b[37mFunctionWrappers v1.1.1\u001b[39m\n",
      " \u001b[90m [de31a74c] \u001b[39m\u001b[37mFunctionalCollections v0.5.0\u001b[39m\n",
      " \u001b[90m [fb4132e2] \u001b[39m\u001b[37mFuzzyCompletions v0.4.0\u001b[39m\n",
      " \u001b[90m [01680d73] \u001b[39m\u001b[37mGenericSVD v0.3.0\u001b[39m\n",
      " \u001b[90m [cd3eb016] \u001b[39m\u001b[37mHTTP v0.9.2\u001b[39m\n",
      " \u001b[90m [f0d1745a] \u001b[39m\u001b[37mHalfIntegers v1.3.2\u001b[39m\n",
      " \u001b[90m [9fb69e20] \u001b[39m\u001b[37mHiccup v0.2.2\u001b[39m\n",
      " \u001b[90m [0e44f5e4] \u001b[39m\u001b[37mHwloc v1.2.0\u001b[39m\n",
      " \u001b[90m [e33a78d0] \u001b[39m\u001b[37mHwloc_jll v2.4.0+0\u001b[39m\n",
      " \u001b[90m [7073ff75] \u001b[39m\u001b[37mIJulia v1.23.1\u001b[39m\n",
      " \u001b[90m [b5f81e59] \u001b[39m\u001b[37mIOCapture v0.1.1\u001b[39m\n",
      " \u001b[90m [615f187c] \u001b[39m\u001b[37mIfElse v0.1.0\u001b[39m\n",
      " \u001b[90m [9b13fd28] \u001b[39m\u001b[37mIndirectArrays v0.5.1\u001b[39m\n",
      " \u001b[90m [d25df0c9] \u001b[39m\u001b[37mInflate v0.1.2\u001b[39m\n",
      " \u001b[90m [83e8ac13] \u001b[39m\u001b[37mIniFile v0.5.0\u001b[39m\n",
      " \u001b[90m [1d5cc7b8] \u001b[39m\u001b[37mIntelOpenMP_jll v2018.0.3+2\u001b[39m\n",
      " \u001b[90m [42fd0dbc] \u001b[39m\u001b[37mIterativeSolvers v0.9.0\u001b[39m\n",
      " \u001b[90m [82899510] \u001b[39m\u001b[37mIteratorInterfaceExtensions v1.0.0\u001b[39m\n",
      " \u001b[90m [692b3bcd] \u001b[39m\u001b[37mJLLWrappers v1.2.0\u001b[39m\n",
      " \u001b[90m [682c06a0] \u001b[39m\u001b[37mJSON v0.21.1\u001b[39m\n",
      " \u001b[90m [98e50ef6] \u001b[39m\u001b[37mJuliaFormatter v0.12.3\u001b[39m\n",
      " \u001b[90m [aa1ae85d] \u001b[39m\u001b[37mJuliaInterpreter v0.8.8\u001b[39m\n",
      " \u001b[90m [e5e0dc1b] \u001b[39m\u001b[37mJuno v0.8.4\u001b[39m\n",
      " \u001b[90m [7c4cb9fa] \u001b[39m\u001b[37mLNR v0.2.1\u001b[39m\n",
      " \u001b[90m [b964fa9f] \u001b[39m\u001b[37mLaTeXStrings v1.2.0\u001b[39m\n",
      " \u001b[90m [2ee39098] \u001b[39m\u001b[37mLabelledArrays v1.5.0\u001b[39m\n",
      " \u001b[90m [50d2b5c4] \u001b[39m\u001b[37mLazy v0.15.1\u001b[39m\n",
      " \u001b[90m [1d6d02ad] \u001b[39m\u001b[37mLeftChildRightSiblingTrees v0.1.2\u001b[39m\n",
      " \u001b[90m [093fc24a] \u001b[39m\u001b[37mLightGraphs v1.3.5\u001b[39m\n",
      " \u001b[90m [d3d80556] \u001b[39m\u001b[37mLineSearches v7.1.1\u001b[39m\n",
      " \u001b[90m [bdcacae8] \u001b[39m\u001b[37mLoopVectorization v0.11.2\u001b[39m\n",
      " \u001b[90m [856f044c] \u001b[39m\u001b[37mMKL_jll v2020.2.254+0\u001b[39m\n",
      " \u001b[90m [1914dd2f] \u001b[39m\u001b[37mMacroTools v0.5.6\u001b[39m\n",
      " \u001b[90m [739be429] \u001b[39m\u001b[37mMbedTLS v1.0.3\u001b[39m\n",
      " \u001b[90m [c8ffd9c3] \u001b[39m\u001b[37mMbedTLS_jll v2.16.8+1\u001b[39m\n",
      " \u001b[90m [e89f7d12] \u001b[39m\u001b[37mMedia v0.5.0\u001b[39m\n",
      " \u001b[90m [e1d29d7a] \u001b[39m\u001b[37mMissings v0.4.5\u001b[39m\n",
      " \u001b[90m [46d2c3a1] \u001b[39m\u001b[37mMuladdMacro v0.2.2\u001b[39m\n",
      " \u001b[90m [d41bc354] \u001b[39m\u001b[37mNLSolversBase v7.7.1\u001b[39m\n",
      " \u001b[90m [2774e3e8] \u001b[39m\u001b[37mNLsolve v4.5.1\u001b[39m\n",
      " \u001b[90m [77ba4419] \u001b[39m\u001b[37mNaNMath v0.3.5\u001b[39m\n",
      " \u001b[90m [8913a72c] \u001b[39m\u001b[37mNonlinearSolve v0.3.8\u001b[39m\n",
      " \u001b[90m [510215fc] \u001b[39m\u001b[37mObservables v0.3.3\u001b[39m\n",
      " \u001b[90m [6fe1bfb0] \u001b[39m\u001b[37mOffsetArrays v1.5.3\u001b[39m\n",
      " \u001b[90m [4536629a] \u001b[39m\u001b[37mOpenBLAS_jll v0.3.9+5\u001b[39m\n",
      " \u001b[90m [efe28fd5] \u001b[39m\u001b[37mOpenSpecFun_jll v0.5.3+4\u001b[39m\n",
      " \u001b[90m [bac558e1] \u001b[39m\u001b[37mOrderedCollections v1.3.3\u001b[39m\n",
      " \u001b[90m [1dea7af3] \u001b[39m\u001b[37mOrdinaryDiffEq v5.50.0\u001b[39m\n",
      " \u001b[90m [90014a1f] \u001b[39m\u001b[37mPDMats v0.10.1\u001b[39m\n",
      " \u001b[90m [d96e819e] \u001b[39m\u001b[37mParameters v0.12.2\u001b[39m\n",
      " \u001b[90m [69de0a69] \u001b[39m\u001b[37mParsers v1.0.15\u001b[39m\n",
      " \u001b[90m [fa939f87] \u001b[39m\u001b[37mPidfile v1.2.0\u001b[39m\n",
      " \u001b[90m [e409e4f3] \u001b[39m\u001b[37mPoissonRandom v0.4.0\u001b[39m\n",
      " \u001b[90m [27ebfcd6] \u001b[39m\u001b[37mPrimes v0.4.0\u001b[39m\n",
      " \u001b[90m [438e738f] \u001b[39m\u001b[37mPyCall v1.92.2\u001b[39m\n",
      " \u001b[90m [d330b81b] \u001b[39m\u001b[37mPyPlot v2.9.0\u001b[39m\n",
      " \u001b[90m [1fd47b50] \u001b[39m\u001b[37mQuadGK v2.4.1\u001b[39m\n",
      " \u001b[90m [6e0679c1] \u001b[39m\u001b[37mQuantumOptics v0.8.4\u001b[39m\n",
      " \u001b[90m [4f57444f] \u001b[39m\u001b[37mQuantumOpticsBase v0.2.6\u001b[39m\n",
      " \u001b[90m [74087812] \u001b[39m\u001b[37mRandom123 v1.3.1\u001b[39m\n",
      " \u001b[90m [e6cf234a] \u001b[39m\u001b[37mRandomNumbers v1.4.0\u001b[39m\n",
      " \u001b[90m [308eb6b3] \u001b[39m\u001b[37mRationalRoots v0.1.0\u001b[39m\n",
      " \u001b[90m [3cdcf5f2] \u001b[39m\u001b[37mRecipesBase v1.1.1\u001b[39m\n",
      " \u001b[90m [731186ca] \u001b[39m\u001b[37mRecursiveArrayTools v2.11.0\u001b[39m\n",
      " \u001b[90m [f2c3362d] \u001b[39m\u001b[37mRecursiveFactorization v0.1.10\u001b[39m\n",
      " \u001b[90m [189a3867] \u001b[39m\u001b[37mReexport v1.0.0\u001b[39m\n",
      " \u001b[90m [ae029012] \u001b[39m\u001b[37mRequires v1.1.2\u001b[39m\n",
      " \u001b[90m [ae5879a3] \u001b[39m\u001b[37mResettableStacks v1.1.0\u001b[39m\n",
      " \u001b[90m [79098fc4] \u001b[39m\u001b[37mRmath v0.6.1\u001b[39m\n",
      " \u001b[90m [f50d1b31] \u001b[39m\u001b[37mRmath_jll v0.2.2+1\u001b[39m\n",
      " \u001b[90m [476501e8] \u001b[39m\u001b[37mSLEEFPirates v0.6.9\u001b[39m\n",
      " \u001b[90m [0bca4576] \u001b[39m\u001b[37mSciMLBase v1.6.0\u001b[39m\n",
      " \u001b[90m [efcf1570] \u001b[39m\u001b[37mSetfield v0.7.0\u001b[39m\n",
      " \u001b[90m [699a6c99] \u001b[39m\u001b[37mSimpleTraits v0.9.3\u001b[39m\n",
      " \u001b[90m [b85f4697] \u001b[39m\u001b[37mSoftGlobalScope v1.1.0\u001b[39m\n",
      " \u001b[90m [a2af1166] \u001b[39m\u001b[37mSortingAlgorithms v0.3.1\u001b[39m\n",
      " \u001b[90m [47a9eef4] \u001b[39m\u001b[37mSparseDiffTools v1.13.0\u001b[39m\n",
      " \u001b[90m [276daf66] \u001b[39m\u001b[37mSpecialFunctions v1.2.1\u001b[39m\n",
      " \u001b[90m [90137ffa] \u001b[39m\u001b[37mStaticArrays v1.0.1\u001b[39m\n",
      " \u001b[90m [2913bbd2] \u001b[39m\u001b[37mStatsBase v0.33.2\u001b[39m\n",
      " \u001b[90m [4c63d2b9] \u001b[39m\u001b[37mStatsFuns v0.9.6\u001b[39m\n",
      " \u001b[90m [789caeaf] \u001b[39m\u001b[37mStochasticDiffEq v6.32.0\u001b[39m\n",
      " \u001b[90m [88034a9c] \u001b[39m\u001b[37mStringDistances v0.8.0\u001b[39m\n",
      " \u001b[90m [3783bdb8] \u001b[39m\u001b[37mTableTraits v1.0.0\u001b[39m\n",
      " \u001b[90m [bd369af6] \u001b[39m\u001b[37mTables v1.3.1\u001b[39m\n",
      " \u001b[90m [8290d209] \u001b[39m\u001b[37mThreadingUtilities v0.2.4\u001b[39m\n",
      " \u001b[90m [0796e94c] \u001b[39m\u001b[37mTokenize v0.5.12\u001b[39m\n",
      " \u001b[90m [a2a6695c] \u001b[39m\u001b[37mTreeViews v0.3.0\u001b[39m\n",
      " \u001b[90m [30578b45] \u001b[39m\u001b[37mURIParser v0.4.1\u001b[39m\n",
      " \u001b[90m [5c2747f8] \u001b[39m\u001b[37mURIs v1.2.0\u001b[39m\n",
      " \u001b[90m [3a884ed6] \u001b[39m\u001b[37mUnPack v1.0.2\u001b[39m\n",
      " \u001b[90m [3d5dd08c] \u001b[39m\u001b[37mVectorizationBase v0.18.7\u001b[39m\n",
      " \u001b[90m [81def892] \u001b[39m\u001b[37mVersionParsing v1.2.0\u001b[39m\n",
      " \u001b[90m [19fa3120] \u001b[39m\u001b[37mVertexSafeGraphs v0.1.2\u001b[39m\n",
      " \u001b[90m [0f1e0344] \u001b[39m\u001b[37mWebIO v0.8.15\u001b[39m\n",
      " \u001b[90m [104b5d7c] \u001b[39m\u001b[37mWebSockets v1.5.9\u001b[39m\n",
      " \u001b[90m [cc8bc4a8] \u001b[39m\u001b[37mWidgets v0.6.2\u001b[39m\n",
      " \u001b[90m [9f57e263] \u001b[39m\u001b[37mWignerSymbols v1.1.0\u001b[39m\n",
      " \u001b[90m [c2297ded] \u001b[39m\u001b[37mZMQ v1.2.1\u001b[39m\n",
      " \u001b[90m [8f1865be] \u001b[39m\u001b[37mZeroMQ_jll v4.3.2+6\u001b[39m\n",
      " \u001b[90m [700de1a5] \u001b[39m\u001b[37mZygoteRules v0.2.1\u001b[39m\n",
      " \u001b[90m [a9144af2] \u001b[39m\u001b[37mlibsodium_jll v1.0.18+1\u001b[39m\n",
      " \u001b[90m [2a0f44e3] \u001b[39m\u001b[37mBase64\u001b[39m\n",
      " \u001b[90m [ade2ca70] \u001b[39m\u001b[37mDates\u001b[39m\n",
      " \u001b[90m [8bb1440f] \u001b[39m\u001b[37mDelimitedFiles\u001b[39m\n",
      " \u001b[90m [8ba89e20] \u001b[39m\u001b[37mDistributed\u001b[39m\n",
      " \u001b[90m [7b1f6079] \u001b[39m\u001b[37mFileWatching\u001b[39m\n",
      " \u001b[90m [9fa8497b] \u001b[39m\u001b[37mFuture\u001b[39m\n",
      " \u001b[90m [b77e0a4c] \u001b[39m\u001b[37mInteractiveUtils\u001b[39m\n",
      " \u001b[90m [76f85450] \u001b[39m\u001b[37mLibGit2\u001b[39m\n",
      " \u001b[90m [8f399da3] \u001b[39m\u001b[37mLibdl\u001b[39m\n",
      " \u001b[90m [37e2e46d] \u001b[39m\u001b[37mLinearAlgebra\u001b[39m\n",
      " \u001b[90m [56ddb016] \u001b[39m\u001b[37mLogging\u001b[39m\n",
      " \u001b[90m [d6f4376e] \u001b[39m\u001b[37mMarkdown\u001b[39m\n",
      " \u001b[90m [a63ad114] \u001b[39m\u001b[37mMmap\u001b[39m\n",
      " \u001b[90m [44cfe95a] \u001b[39m\u001b[37mPkg\u001b[39m\n",
      " \u001b[90m [de0858da] \u001b[39m\u001b[37mPrintf\u001b[39m\n",
      " \u001b[90m [9abbd945] \u001b[39m\u001b[37mProfile\u001b[39m\n",
      " \u001b[90m [3fa0cd96] \u001b[39m\u001b[37mREPL\u001b[39m\n",
      " \u001b[90m [9a3f8284] \u001b[39m\u001b[37mRandom\u001b[39m\n",
      " \u001b[90m [ea8e919c] \u001b[39m\u001b[37mSHA\u001b[39m\n",
      " \u001b[90m [9e88b42a] \u001b[39m\u001b[37mSerialization\u001b[39m\n",
      " \u001b[90m [1a1011a3] \u001b[39m\u001b[37mSharedArrays\u001b[39m\n",
      " \u001b[90m [6462fe0b] \u001b[39m\u001b[37mSockets\u001b[39m\n",
      " \u001b[90m [2f01184e] \u001b[39m\u001b[37mSparseArrays\u001b[39m\n",
      " \u001b[90m [10745b16] \u001b[39m\u001b[37mStatistics\u001b[39m\n",
      " \u001b[90m [4607b0f0] \u001b[39m\u001b[37mSuiteSparse\u001b[39m\n",
      " \u001b[90m [8dfed614] \u001b[39m\u001b[37mTest\u001b[39m\n",
      " \u001b[90m [cf7118a7] \u001b[39m\u001b[37mUUIDs\u001b[39m\n",
      " \u001b[90m [4ec0a83e] \u001b[39m\u001b[37mUnicode\u001b[39m\n"
     ]
    }
   ],
   "source": [
    "# This command just gives us information about the packages used in our environment.\r\n",
    "# The information is stored in a Manifest.toml file.  \r\n",
    "# It is useful for reproducing the environment on another machine, for example, \r\n",
    "# using mybinder.org.\r\n",
    "using Pkg\r\n",
    "Pkg.status(mode=PKGMODE_MANIFEST)"
   ]
  },
  {
   "cell_type": "code",
   "execution_count": 27,
   "metadata": {},
   "outputs": [
    {
     "name": "stdout",
     "output_type": "stream",
     "text": [
      "\u001b[32m\u001b[1mStatus\u001b[22m\u001b[39m `C:\\Users\\User\\.julia\\environments\\v1.5\\Project.toml`\n",
      " \u001b[90m [c52e3926] \u001b[39m\u001b[37mAtom v0.12.30\u001b[39m\n",
      " \u001b[90m [7073ff75] \u001b[39m\u001b[37mIJulia v1.23.1\u001b[39m\n",
      " \u001b[90m [e5e0dc1b] \u001b[39m\u001b[37mJuno v0.8.4\u001b[39m\n",
      " \u001b[90m [d330b81b] \u001b[39m\u001b[37mPyPlot v2.9.0\u001b[39m\n",
      " \u001b[90m [6e0679c1] \u001b[39m\u001b[37mQuantumOptics v0.8.4\u001b[39m\n",
      " \u001b[90m [9f57e263] \u001b[39m\u001b[37mWignerSymbols v1.1.0\u001b[39m\n"
     ]
    }
   ],
   "source": [
    "# This command write a Project.toml file, which is useful if we want to recreate the environment on another machine.\r\n",
    "pkg\"status\""
   ]
  },
  {
   "cell_type": "code",
   "execution_count": null,
   "metadata": {},
   "outputs": [],
   "source": []
  }
 ],
 "metadata": {
  "kernelspec": {
   "display_name": "Julia 1.5.3",
   "language": "julia",
   "name": "julia-1.5"
  },
  "language_info": {
   "file_extension": ".jl",
   "mimetype": "application/julia",
   "name": "julia",
   "version": "1.5.3"
  }
 },
 "nbformat": 4,
 "nbformat_minor": 5
}