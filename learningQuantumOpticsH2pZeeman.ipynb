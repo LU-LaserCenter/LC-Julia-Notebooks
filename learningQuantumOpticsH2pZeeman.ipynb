{
 "cells": [
  {
   "cell_type": "markdown",
   "metadata": {},
   "source": [
    "# Learning Quantum Optics\n",
    "## A Notebook for learning how to work with the package [QuantumOptics.jl](https://qojulia.org/)\n",
    "### Florian Gahbauer\n",
    "### February 25, 2021\n",
    "### Revised March 6, 2021"
   ]
  },
  {
   "cell_type": "code",
   "execution_count": null,
   "metadata": {},
   "outputs": [],
   "source": [
    "using LinearAlgebra\r\n",
    "using QuantumOptics\r\n",
    "using WignerSymbols\r\n",
    "using Plots\r\n",
    "#using PyPlot"
   ]
  },
  {
   "cell_type": "markdown",
   "metadata": {},
   "source": [
    "## Creating Bases\r\n",
    "In this section, we will test the SpinBasis function to create spin-1/2 bases for the electron spin (S1) and the proton spin (S2).\r\n",
    "Note that the electron spin is sometimes referred to as S and the proton (nuclear) spin as I.\r\n",
    "Then, we will create a composite basis to describe a Hydrogen atom in the 1s state from these two bases. "
   ]
  },
  {
   "cell_type": "code",
   "execution_count": null,
   "metadata": {},
   "outputs": [],
   "source": [
    "m1basis=SpinBasis(1//1)                         # basis for orbital angular momentum S1=L=|S1,m₁> with spin-1. \r\n",
    "m2basis=SpinBasis(1//2)                         # basis for spin S2=|S2,m₂> with spin-1/2  |↑>=[1; 0], |↓>=[0; 1] \r\n",
    "m1m2basis=CompositeBasis(m2basis,m1basis)       # Composite basis S1 ⊗ S2 (outer product)\r\n",
    "#hbasis=tensor(sbasis,ibasis) # same as above, I think.\r\n",
    "# We will call this the |L,S,mₗ,mₛ> basis or |mₗ,mₛ> for short, because we can describe it \r\n",
    "#by the z-component of each of the spins: |1↑>, |1↓>, |0↑>, |0↓>, |-1↑>, |-1↓> "
   ]
  },
  {
   "cell_type": "markdown",
   "metadata": {},
   "source": [
    "## Operators in the two bases\r\n",
    "Next we will create some basic operators defined for the spin-1 and the spin-1/2 bases. \r\n",
    "We want the $S_z^{1 \\otimes 1/2}$ operator and the identity operator in each basis. \r\n",
    "To make life easier, we will set $\\hbar=1$."
   ]
  },
  {
   "cell_type": "code",
   "execution_count": null,
   "metadata": {},
   "outputs": [],
   "source": [
    "m1basisSz=0.5*sigmaz(m1basis)               # Sz operator for S1 basis\r\n",
    "m2basisSz=0.5*sigmaz(m2basis)               # Sz operator for S2 basis: 0.5 \\hbar [1 0; 0 -1]\r\n",
    "m1basisSplus=sigmap(m1basis)                # Splus operator for S1 basis\r\n",
    "m1basisSminus=sigmam(m1basis)               # Sminus operator for S1 basis\r\n",
    "m2basisSplus=sigmap(m2basis)                # Splus operator for S2 basis: \\hbar [0 1; 0  0]\r\n",
    "m2basisSminus=sigmam(m2basis)               # Sminus operator for S1 basis: \\hbar [0 0; 1  0]\r\n",
    "m1basisIdentity=identityoperator(m1basis)   # Identity operator for S1 basis\r\n",
    "m2basisIdentity=identityoperator(m2basis)   # Identity operator for S2 basis: [1 0; 0 1]\r\n",
    "m1basisSS=0.75*m1basisIdentity              # S^2 operator for S1 basis\r\n",
    "m2basisSS=0.75*m2basisIdentity              # S^2 operator for S2 basis: 0.75 \\hbar^2 [1 0; 0 1]"
   ]
  },
  {
   "cell_type": "markdown",
   "metadata": {},
   "source": [
    "## Operators in the spin(1) $\\otimes$ spin(1/2) basis\r\n",
    "Now we need to express these operators in the spin(1) $\\otimes$ spin(1/2) basis. The key is the [outer product](https://en.wikipedia.org/wiki/Outer_product). \r\n",
    "\r\n"
   ]
  },
  {
   "cell_type": "code",
   "execution_count": null,
   "metadata": {},
   "outputs": [],
   "source": [
    "S1z=tensor(m2basisIdentity,m1basisSz)           # S1z in S1S2 basis: \\hbar diagonal(0.5,0.5,-0.5,-0.5)\r\n",
    "S2z=tensor(m2basisSz,m1basisIdentity)           # S2z in S1S2 basis: \\hbar digaonal(0.5,-0.5,0.5,-0.5)\r\n",
    "S1plus=tensor(m2basisIdentity,m1basisSplus)     # S1plus in S1S2 basis \r\n",
    "S1minus=tensor(m2basisIdentity,m1basisSminus)   # S1minus in S1S2 basis\r\n",
    "S2plus=tensor(m2basisSplus,m1basisIdentity)     # S2plus in S1S2 basis \r\n",
    "S2minus=tensor(m2basisSminus,m1basisIdentity)   # S2minus in S1S2 basis\r\n",
    "S1S2=S1z*S2z+0.5*(S2plus*S1minus+S2minus*S1plus)    # S1̇ S2 in S1S2 basis\r\n",
    "#See eq. (E-19) of Chapter XII.3.b. of Cohen-Tannoudji Quantum Mechanics for S=S1, I=S2\r\n"
   ]
  },
  {
   "cell_type": "code",
   "execution_count": null,
   "metadata": {},
   "outputs": [],
   "source": [
    "# Now define S^2 in the S1S2 basis. \r\n",
    "# See eq (B-18) of Chapter X of Cohen-Tannoudji Quantum Mechanics\r\n",
    "# Should be \\hbar^2 [2 0 0 0; 0 1 1 0; 0 1 1 0; 0 0 0 2]\r\n",
    "SS=0.75*identityoperator(m1m2basis) + 0.75*identityoperator(m1m2basis) + 2*S1z*S2z +S1plus*S2minus +S1minus*S2plus "
   ]
  },
  {
   "cell_type": "code",
   "execution_count": null,
   "metadata": {},
   "outputs": [],
   "source": [
    "# Now define some kets in the S1S2 basis.\r\n",
    "uu=Ket(m1m2basis,[1,0,0,0])        # | ↑, ↑ >\r\n",
    "dd=Ket(m1m2basis,[0,0,0,1])        # | ↓, ↓ >\r\n",
    "ud=Ket(m1m2basis,[0,1,0,0])        # | ↑, ↓ >\r\n",
    "du=Ket(m1m2basis,[0,0,1,0])        # | ↓, ↑ >"
   ]
  },
  {
   "cell_type": "code",
   "execution_count": null,
   "metadata": {},
   "outputs": [],
   "source": [
    "# Now define the basis vectors of the |F, m> basis, \r\n",
    "# where the total angular momentum F=S1+S2 and m=Fz (the z-component of F)\r\n",
    "F1=uu                                       # | ↑, ↑ >\r\n",
    "F2=(ud+du)/sqrt(2)                          # (| ↑, ↓ > + | ↓, ↑ >)/√2\r\n",
    "F3=dd                                       # | ↓, ↓ >\r\n",
    "F4=(ud-du)/sqrt(2)                          # (| ↑, ↓ > - | ↓, ↑ >)/√2\r\n",
    "Fmbasis=SubspaceBasis([F1,F2,F3,F4])         # Now define the |F,m> basis using these basis vectors"
   ]
  },
  {
   "cell_type": "code",
   "execution_count": null,
   "metadata": {},
   "outputs": [],
   "source": [
    "# Now define the matrix to transform a vector from the |m1,m2> basis to the |F,m> basis.\r\n",
    "# In other words, we found |α> = C |β>, where |α> is in the |F,m> basis and β is in the |m1,m2> basis.\r\n",
    "# A good explanation can be  found in the section on Clebsch-Gordan coefficients in\r\n",
    "# R. Shankar, Principles of Quantum Mechanics, 2nd edition, New York, Plenum Press, 1994 (ISBN 0-306-44790-8)\r\n",
    "# In fact, I found the entire chapter on Addition of Angular momentum (Chapter 15) very helpful.\r\n",
    "C=[clebschgordan(1//2,1//2,1//2,1//2,1,1) clebschgordan(1//2,1//2,1//2,-1//2,1,1) clebschgordan(1//2,-1//2,1//2,1//2,1,1) clebschgordan(1//2,-1//2,1//2,-1//2,1,1);\r\n",
    "    clebschgordan(1//2,1//2,1//2,1//2,1,0) clebschgordan(1//2,1//2,1//2,-1//2,1,0) clebschgordan(1//2,-1//2,1//2,1//2,1,0) clebschgordan(1//2,-1//2,1//2,-1//2,1,0);\r\n",
    "    clebschgordan(1//2,1//2,1//2,1//2,1,-1) clebschgordan(1//2,1//2,1//2,-1//2,1,-1) clebschgordan(1//2,-1//2,1//2,1//2,1,-1) clebschgordan(1//2,-1//2,1//2,-1//2,1,-1);\r\n",
    "    clebschgordan(1//2,1//2,1//2,1//2,0,0) clebschgordan(1//2,1//2,1//2,-1//2,0,0) clebschgordan(1//2,-1//2,1//2,1//2,0,0) clebschgordan(1//2,-1//2,1//2,-1//2,0,0)]"
   ]
  },
  {
   "cell_type": "code",
   "execution_count": null,
   "metadata": {},
   "outputs": [],
   "source": [
    "# C is just a matrix for now. It is not a QuantumOptics object.\r\n",
    "# Therefore we can just take the inverse using the appropriate \r\n",
    "# function from the LinearAlgebra package. \r\n",
    "# Following the above logic, Cinv is the transormation matrix \r\n",
    "# from the |F,m> basis to the |m1,m2> basis:\r\n",
    "# |β> = Cinv |α>,\r\n",
    "# where |β> is a ket in the |m1,m2> basis \r\n",
    "# and |α> is a ket in the |F,m> basis.\r\n",
    "Cinv=inv(C)"
   ]
  },
  {
   "cell_type": "code",
   "execution_count": null,
   "metadata": {},
   "outputs": [],
   "source": [
    "# The elements of C are type RationalRoots.\r\n",
    "# We want them to be Float64. \r\n",
    "# We use the vectorized dot-function Float64 \r\n",
    "# to convert each element of C to a Float64.\r\n",
    "C=Float64.(C)"
   ]
  },
  {
   "cell_type": "code",
   "execution_count": null,
   "metadata": {},
   "outputs": [],
   "source": [
    "# Now we want to convert our matrix into an operator object.\r\n",
    "# We use the DenseOperator function from QuantumOptics.jl \r\n",
    "# and define a transformmatrix. \r\n",
    "TransformMatrix=DenseOperator(m1m2basis,C)"
   ]
  },
  {
   "cell_type": "code",
   "execution_count": null,
   "metadata": {},
   "outputs": [],
   "source": [
    "# We also need the Hermitian conjugate of the \r\n",
    "# transform matrix, which we can get using the \r\n",
    "# dagger function from QuantumOptics.jl. \r\n",
    "TransformMatrixDagger=dagger(TransformMatrix)"
   ]
  },
  {
   "cell_type": "code",
   "execution_count": null,
   "metadata": {},
   "outputs": [],
   "source": [
    "# In order to transform the operator Sz from the |m₁,m₂> basis to the\r\n",
    "# |F,m> basis, we must multiply it on the right side by\r\n",
    "# C† and on the left side by C. \r\n",
    "TransformMatrix*(S1z)*TransformMatrixDagger    # Should be Eq. E-10 in Chapter XII.E.2.a. of vol. 2 of Cohen-Tannoudji."
   ]
  },
  {
   "cell_type": "code",
   "execution_count": null,
   "metadata": {},
   "outputs": [],
   "source": [
    "# I think the right way to do it, actually, is to define our transform matrix\r\n",
    "# as an operator with a left-side basis |F,m>\r\n",
    "# and a right-side basis |m₁,m₂>. \r\n",
    "TransformMatrix=Operator(Fmbasis,m1m2basis,C)"
   ]
  },
  {
   "cell_type": "code",
   "execution_count": null,
   "metadata": {},
   "outputs": [],
   "source": [
    "# Now when we take the Hermitian conjugage, the QuantumOptics package\r\n",
    "# should handle everything for us. \r\n",
    "TransformMatrixDagger=dagger(TransformMatrix)"
   ]
  },
  {
   "cell_type": "code",
   "execution_count": null,
   "metadata": {},
   "outputs": [],
   "source": [
    "Szfmbasis=TransformMatrix*(S1z)*TransformMatrixDagger    # Eq. E-10 in Chapter XII.E.2.a. of vol. 2 of Cohen-Tannoudji, Quantum Mechanics."
   ]
  },
  {
   "cell_type": "code",
   "execution_count": null,
   "metadata": {},
   "outputs": [],
   "source": [
    "ISfmbasis=TransformMatrix*(S1S2)*TransformMatrixDagger   # This is the operator I.S in the |F,m> basis, where it should be diagonal. "
   ]
  },
  {
   "cell_type": "code",
   "execution_count": null,
   "metadata": {},
   "outputs": [],
   "source": [
    "#  Now I think we are ready to calculate the Zeeman splitting. \r\n",
    "A=1420.405751768                # Hyperfine structure of the ground state of H, A*hbar/(2*pi), in MHz. \r\n",
    "q=1.6*10^(-19)                  # Electron charge in Coulomb\r\n",
    "mₑ=9.1*10^(-31)                 # Electron mass in kg\r\n",
    "B₀=range(0,0.03,step=0.0001)    # 1.0*10^(-4)     Magnetic field in Tesla\r\n",
    "ω₀=-(q/(2*mₑ))*B₀/10^6          # frequency in MHz"
   ]
  },
  {
   "cell_type": "code",
   "execution_count": null,
   "metadata": {},
   "outputs": [],
   "source": [
    "Hlist = [A*S1S2 + 2 * ω * S1z for ω=ω₀]         # The Hamiltonian is given by eq. (E-8) in Chapter XII.E.1.b. of Cohen-Tannoudji, Quantum Mechanics \r\n",
    "results=[eigenstates(dense(H)) for H=Hlist]; # This is a way of looping over the elements in the array Hlist to get an array called results.\r\n"
   ]
  },
  {
   "cell_type": "code",
   "execution_count": null,
   "metadata": {},
   "outputs": [],
   "source": [
    "# Lots of information packed into the results array.\r\n",
    "typeof(results)"
   ]
  },
  {
   "cell_type": "code",
   "execution_count": null,
   "metadata": {},
   "outputs": [],
   "source": [
    "# Check the length. (How many entries\r\n",
    "length(results)"
   ]
  },
  {
   "cell_type": "code",
   "execution_count": null,
   "metadata": {},
   "outputs": [],
   "source": [
    "# Here we unpack the Eigenvalues and create 1-dimensional arrays for each Eigenvalue at different magnetic field values.\r\n",
    "E1=[results[i][1][1] for i=range(1,length=length(results))]\r\n",
    "E2=[results[i][1][2] for i=range(1,length=length(results))]\r\n",
    "E3=[results[i][1][3] for i=range(1,length=length(results))]\r\n",
    "E4=[results[i][1][4] for i=range(1,length=length(results))]\r\n",
    "E5=[results[i][1][5] for i=range(1,length=length(results))]\r\n",
    "E6=[results[i][1][6] for i=range(1,length=length(results))];"
   ]
  },
  {
   "cell_type": "code",
   "execution_count": null,
   "metadata": {},
   "outputs": [],
   "source": [
    "#  Now we plot each Eigenvalue as a function of magnetic field. \r\n",
    "#figure(figsize=(6,3))\r\n",
    "#xlabel(L\"Magnetic Field [T]\")\r\n",
    "#ylabel(L\"Energy [MHz]\")\r\n",
    "Plots.plot(B₀,[E1,E2,E3,E4,E5,E6])\r\n",
    "#Plots.plot(B₀,E2)\r\n",
    "#Plots.plot(B₀,E3)\r\n",
    "#Plots.plot(B₀,E4)\r\n",
    "#Plots.plot(B₀,E5)\r\n",
    "#Plots.plot(B₀,E6)\r\n",
    "\r\n",
    "\r\n"
   ]
  },
  {
   "cell_type": "code",
   "execution_count": null,
   "metadata": {},
   "outputs": [],
   "source": []
  },
  {
   "cell_type": "code",
   "execution_count": null,
   "metadata": {},
   "outputs": [],
   "source": [
    "# This command just gives us information about the packages used in our environment.\r\n",
    "# The information is stored in a Manifest.toml file.  \r\n",
    "# It is useful for reproducing the environment on another machine, for example, \r\n",
    "# using mybinder.org.\r\n",
    "using Pkg\r\n",
    "Pkg.status(mode=PKGMODE_MANIFEST)"
   ]
  },
  {
   "cell_type": "code",
   "execution_count": null,
   "metadata": {},
   "outputs": [],
   "source": [
    "# This command write a Project.toml file, which is useful if we want to recreate the environment on another machine.\r\n",
    "pkg\"status\""
   ]
  },
  {
   "cell_type": "code",
   "execution_count": null,
   "metadata": {},
   "outputs": [],
   "source": []
  }
 ],
 "metadata": {
  "kernelspec": {
   "display_name": "Julia 1.5.3",
   "language": "julia",
   "name": "julia-1.5"
  },
  "language_info": {
   "file_extension": ".jl",
   "mimetype": "application/julia",
   "name": "julia",
   "version": "1.5.3"
  }
 },
 "nbformat": 4,
 "nbformat_minor": 5
}